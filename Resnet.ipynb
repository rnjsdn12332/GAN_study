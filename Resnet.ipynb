{
  "nbformat": 4,
  "nbformat_minor": 0,
  "metadata": {
    "colab": {
      "name": "Resnet.ipynb",
      "provenance": [],
      "collapsed_sections": [],
      "authorship_tag": "ABX9TyOb0LudaXaUk+F8R0QT7eyt",
      "include_colab_link": true
    },
    "kernelspec": {
      "name": "python3",
      "display_name": "Python 3"
    },
    "language_info": {
      "name": "python"
    }
  },
  "cells": [
    {
      "cell_type": "markdown",
      "metadata": {
        "id": "view-in-github",
        "colab_type": "text"
      },
      "source": [
        "<a href=\"https://colab.research.google.com/github/rnjsdn12332/GAN_study/blob/main/Resnet.ipynb\" target=\"_parent\"><img src=\"https://colab.research.google.com/assets/colab-badge.svg\" alt=\"Open In Colab\"/></a>"
      ]
    },
    {
      "cell_type": "code",
      "metadata": {
        "id": "viee8fTd5Iko"
      },
      "source": [
        "import torch\n",
        "import torch.nn as nn\n",
        "import torch.optim as optim\n",
        "import torch.nn.functional as F\n",
        "from torchvision import transforms, datasets"
      ],
      "execution_count": 40,
      "outputs": []
    },
    {
      "cell_type": "code",
      "metadata": {
        "id": "yStJO23j5N2S"
      },
      "source": [
        "EPOCHS=300\n",
        "BATCH_SIZE=128"
      ],
      "execution_count": 41,
      "outputs": []
    },
    {
      "cell_type": "code",
      "metadata": {
        "colab": {
          "base_uri": "https://localhost:8080/"
        },
        "id": "9pCw0Ypa5TaC",
        "outputId": "f2e1a025-f110-4446-dc59-28df63f468b6"
      },
      "source": [
        "train_loader = torch.utils.data.DataLoader(\n",
        "    #png 형식의 컬러 이미지들은 투명도까지 해서 채널 4를 가진다.\n",
        "    datasets.CIFAR10('./.data',\n",
        "                          train=True, \n",
        "                          download=True,\n",
        "                          transform=transforms.Compose([\n",
        "                              transforms.RandomCrop(32,padding=4),#과적합 방지\n",
        "                              transforms.RandomHorizontalFlip(),\n",
        "                              transforms.ToTensor(),\n",
        "                              transforms.Normalize((0.5,0.5,0.5),(0.5,0.5,0.5))])\n",
        "                          ),\n",
        "    batch_size=BATCH_SIZE, shuffle=True\n",
        ")\n",
        "\n",
        "test_loader=torch.utils.data.DataLoader(\n",
        "     datasets.CIFAR10('./.data',\n",
        "                          train=False, \n",
        "                          download=True, \n",
        "                          transform=transforms.Compose([\n",
        "                              transforms.ToTensor(),\n",
        "                              transforms.Normalize((0.1307,),(0.3081,))\n",
        "                          ])),\n",
        "    batch_size=BATCH_SIZE, shuffle=True\n",
        "\n",
        ")"
      ],
      "execution_count": 42,
      "outputs": [
        {
          "output_type": "stream",
          "text": [
            "Files already downloaded and verified\n",
            "Files already downloaded and verified\n"
          ],
          "name": "stdout"
        }
      ]
    },
    {
      "cell_type": "markdown",
      "metadata": {
        "id": "Y-Nks8EF_uu2"
      },
      "source": [
        "ResNet의 핵심은 네트워크를 작은 블록인 Residual 블록으로 나누었다는 것\n",
        "Residual 블록의 출력에 입력하였던 x를 더함으로써 모델을 훨씬 길게 설계할 수 있도록 함. 입력과 출력의 관계를 바로 학습하기 보다 입력과 출력의 차이를 따로 학습하는게 성능에 더 좋다는 가설\n"
      ]
    },
    {
      "cell_type": "code",
      "metadata": {
        "id": "v_fhSAAK55p8"
      },
      "source": [
        "class BasicBlock(nn.Module):\n",
        "    def __init__(self, in_planes, planes, stride=1):\n",
        "        super(BasicBlock, self).__init__()\n",
        "        self.conv1 = nn.Conv2d(in_planes, planes, kernel_size=3,\n",
        "                               stride=stride, padding=1, bias=False)\n",
        "        self.bn1 = nn.BatchNorm2d(planes)\n",
        "        self.conv2 = nn.Conv2d(planes, planes, kernel_size=3,\n",
        "                               stride=1, padding=1, bias=False)\n",
        "        self.bn2 = nn.BatchNorm2d(planes) #배치정규화는 학습률을 너무 높게 잡으면 기울기가 소실되거나 발산하는 증상을 완화시켜줌\n",
        "        # 각계층에 들어가는 입력을 평균과 분산으로 정규화함으로써 학습을 효율적으로 만듬\n",
        "\n",
        "        self.shortcut = nn.Sequential()\n",
        "        if stride != 1 or in_planes != planes:\n",
        "            self.shortcut = nn.Sequential(\n",
        "                nn.Conv2d(in_planes, planes,\n",
        "                          kernel_size=1, stride=stride, bias=False),\n",
        "                nn.BatchNorm2d(planes)\n",
        "            )\n",
        "\n",
        "    def forward(self, x):\n",
        "        out = F.relu(self.bn1(self.conv1(x)))\n",
        "        out = self.bn2(self.conv2(out))\n",
        "        out += self.shortcut(x)\n",
        "        out = F.relu(out)\n",
        "        return out\n"
      ],
      "execution_count": 43,
      "outputs": []
    },
    {
      "cell_type": "markdown",
      "metadata": {
        "id": "6h7Q9s40C52Q"
      },
      "source": [
        "입력 x가 들어와 컨볼루션 ,배치정규화, 활성화 함수를 거치고, 다시 입력 x를 self.shortcut 을 거치게 하여 크기를 같게 하고 활성화 함수를 거친 값을 더함\n",
        "그리고 이 값을 relu함수를 통과 시켜 최종 출력을 만듬"
      ]
    },
    {
      "cell_type": "code",
      "metadata": {
        "id": "CoGdkASJEX0T"
      },
      "source": [
        ""
      ],
      "execution_count": 34,
      "outputs": []
    },
    {
      "cell_type": "code",
      "metadata": {
        "id": "pxSiRw1xCVJi"
      },
      "source": [
        "class ResNet(nn.Module):\n",
        "    def __init__(self, num_classes=10):\n",
        "        super(ResNet, self).__init__()\n",
        "        self.in_planes = 16\n",
        "\n",
        "        self.conv1 = nn.Conv2d(3, 16, kernel_size=3,\n",
        "                               stride=1, padding=1, bias=False)\n",
        "        self.bn1 = nn.BatchNorm2d(16)\n",
        "        self.layer1 = self._make_layer(16, 2, stride=1)\n",
        "        self.layer2 = self._make_layer(32, 2, stride=2)\n",
        "        self.layer3 = self._make_layer(64, 2, stride=2)\n",
        "        self.linear = nn.Linear(64, num_classes)\n",
        "\n",
        "    def _make_layer(self, planes, num_blocks, stride):\n",
        "        strides = [stride] + [1]*(num_blocks-1)\n",
        "        layers = []\n",
        "        for stride in strides:\n",
        "            layers.append(BasicBlock(self.in_planes, planes, stride))\n",
        "            self.in_planes = planes\n",
        "        return nn.Sequential(*layers)\n",
        "\n",
        "    def forward(self, x):\n",
        "        out = F.relu(self.bn1(self.conv1(x))) #RGB 3색을 16개 채널로 만듦\n",
        "        out = self.layer1(out) # ->  16X32X32\n",
        "        out = self.layer2(out)# ->  32X16X16\n",
        "        out = self.layer3(out) # -> 64X8X8\n",
        "        out = F.avg_pool2d(out, 8) #평균 풀링으로 텐서에 있는 원소의 개수 64개로\n",
        "        out = out.view(out.size(0), -1) \n",
        "        out = self.linear(out)\n",
        "        return out"
      ],
      "execution_count": 44,
      "outputs": []
    },
    {
      "cell_type": "markdown",
      "metadata": {
        "id": "iblwzUunPF7-"
      },
      "source": [
        ""
      ]
    },
    {
      "cell_type": "code",
      "metadata": {
        "id": "I6irEIiCGRpW"
      },
      "source": [
        "model = ResNet()\n",
        "optimizer = optim.SGD(model.parameters(), lr=0.1,\n",
        "                      momentum=0.9, weight_decay=0.0005)\n",
        "scheduler = optim.lr_scheduler.StepLR(optimizer, step_size=50, gamma=0.1) #학습률 감소(learning rate decay)기법\n",
        "#step_size=50을통해 에폭이 50번 호출 될 때마다 학습률 0.1을 곱함"
      ],
      "execution_count": 45,
      "outputs": []
    },
    {
      "cell_type": "markdown",
      "metadata": {
        "id": "mOKtM_viQdKg"
      },
      "source": [
        "학습률 감소는 학습이 지냉되면서 최적화 함수의 학습률을 점점 낮춰서 더 정교하게 최적화함."
      ]
    },
    {
      "cell_type": "code",
      "metadata": {
        "id": "A9zmof5zGoUT"
      },
      "source": [
        "\n",
        "def train(model, train_loader, optimizer, epoch):\n",
        "    model.train()\n",
        "    for batch_idx, (data, target) in enumerate(train_loader):\n",
        "        data, target = data, target\n",
        "        optimizer.zero_grad()\n",
        "        output = model(data)\n",
        "        loss = F.cross_entropy(output, target)\n",
        "        loss.backward()\n",
        "        optimizer.step()\n",
        "\n",
        "def evaluate(model, test_loader):\n",
        "    model.eval()\n",
        "    test_loss = 0\n",
        "    correct = 0\n",
        "    with torch.no_grad():\n",
        "        for data, target in test_loader:\n",
        "            data, target = data, target\n",
        "            output = model(data)\n",
        "\n",
        "            # 배치 오차를 합산\n",
        "            test_loss += F.cross_entropy(output, target,\n",
        "                                         reduction='sum').item()\n",
        "\n",
        "            # 가장 높은 값을 가진 인덱스가 바로 예측값\n",
        "            pred = output.max(1, keepdim=True)[1]\n",
        "            correct += pred.eq(target.view_as(pred)).sum().item()\n",
        "\n",
        "    test_loss /= len(test_loader.dataset)\n",
        "    test_accuracy = 100. * correct / len(test_loader.dataset)\n",
        "    return test_loss, test_accuracy"
      ],
      "execution_count": 46,
      "outputs": []
    },
    {
      "cell_type": "code",
      "metadata": {
        "colab": {
          "base_uri": "https://localhost:8080/"
        },
        "id": "fh68F086GtSG",
        "outputId": "4217e64d-9402-42d0-9f4a-cf73a9f10b05"
      },
      "source": [
        "for epoch in range(1, EPOCHS + 1):\n",
        "    scheduler.step() #scheduler.step을 해줘서 학습률 감소 적용\n",
        "    train(model, train_loader, optimizer, epoch)\n",
        "    test_loss, test_accuracy = evaluate(model, test_loader)\n",
        "    \n",
        "    print('[{}] Test Loss: {:.4f}, Accuracy: {:.2f}%'.format(\n",
        "          epoch, test_loss, test_accuracy))"
      ],
      "execution_count": null,
      "outputs": [
        {
          "output_type": "stream",
          "text": [
            "/usr/local/lib/python3.7/dist-packages/torch/optim/lr_scheduler.py:134: UserWarning: Detected call of `lr_scheduler.step()` before `optimizer.step()`. In PyTorch 1.1.0 and later, you should call them in the opposite order: `optimizer.step()` before `lr_scheduler.step()`.  Failure to do this will result in PyTorch skipping the first value of the learning rate schedule. See more details at https://pytorch.org/docs/stable/optim.html#how-to-adjust-learning-rate\n",
            "  \"https://pytorch.org/docs/stable/optim.html#how-to-adjust-learning-rate\", UserWarning)\n"
          ],
          "name": "stderr"
        },
        {
          "output_type": "stream",
          "text": [
            "[1] Test Loss: 2.4098, Accuracy: 24.23%\n",
            "[2] Test Loss: 2.0686, Accuracy: 43.47%\n",
            "[3] Test Loss: 2.4465, Accuracy: 40.35%\n",
            "[4] Test Loss: 2.9886, Accuracy: 36.32%\n",
            "[5] Test Loss: 1.4594, Accuracy: 56.77%\n"
          ],
          "name": "stdout"
        }
      ]
    }
  ]
}