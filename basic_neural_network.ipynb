{
  "nbformat": 4,
  "nbformat_minor": 0,
  "metadata": {
    "colab": {
      "name": "basic_neural_network.ipynb",
      "provenance": [],
      "collapsed_sections": [],
      "authorship_tag": "ABX9TyOisGlvq18hN3uNAUGoXJjO",
      "include_colab_link": true
    },
    "kernelspec": {
      "name": "python3",
      "display_name": "Python 3"
    },
    "language_info": {
      "name": "python"
    }
  },
  "cells": [
    {
      "cell_type": "markdown",
      "metadata": {
        "id": "view-in-github",
        "colab_type": "text"
      },
      "source": [
        "<a href=\"https://colab.research.google.com/github/rnjsdn12332/GAN_study/blob/main/basic_neural_network.ipynb\" target=\"_parent\"><img src=\"https://colab.research.google.com/assets/colab-badge.svg\" alt=\"Open In Colab\"/></a>"
      ]
    },
    {
      "cell_type": "code",
      "metadata": {
        "id": "OLRINQDj7FRf"
      },
      "source": [
        "import torch\n",
        "import numpy\n",
        "from sklearn.datasets import make_blobs\n",
        "import matplotlib.pyplot as plt\n",
        "import torch.nn.functional as F\n"
      ],
      "execution_count": 7,
      "outputs": []
    },
    {
      "cell_type": "code",
      "metadata": {
        "id": "quAwfU3-7SDY"
      },
      "source": [
        "n_dim=2\n",
        "#make_blobs는 사이킷런에서 제공해주는 예제용 데이터셋을 만들어주는 함수\n",
        "x_train, y_train = make_blobs(n_samples=80, n_features=n_dim, \n",
        "                              centers=[[1,1],[-1,-1],[1,-1],[-1,1]],\n",
        "                              shuffle=True, cluster_std=0.3) #학습 데이터셋 80개 네개의 클러스터\n",
        "                              #make_blobs 함수가 만들어내는 레이블데이터는 각 데이터 한점한점이 몇번째 클러스터에 속해있는지 알려주는 인덱스\n",
        "\n",
        "x_test, y_test = make_blobs(n_samples=20, n_features=n_dim, \n",
        "                            centers=[[1,1], [-1,-1],[1,-1],[-1,1]])\n"
      ],
      "execution_count": 2,
      "outputs": []
    },
    {
      "cell_type": "code",
      "metadata": {
        "id": "S-EH9L568fg-"
      },
      "source": [
        "def label_map(y_, from_, to_) :\n",
        "    y=numpy.copy(y_)\n",
        "    for f in from_ :\n",
        "        y[y_ == f] = to_\n",
        "    return y\n",
        "\n",
        "y_train=label_map(y_train, [0,1],0)\n",
        "y_train=label_map(y_train, [2,3],1)\n",
        "y_test=label_map(y_test, [0,1],0)\n",
        "y_test=label_map(y_test, [2,3],1)\n"
      ],
      "execution_count": 5,
      "outputs": []
    },
    {
      "cell_type": "code",
      "metadata": {
        "colab": {
          "base_uri": "https://localhost:8080/",
          "height": 265
        },
        "id": "M5gIf28B9Svd",
        "outputId": "2d66d1bf-72c0-4531-ac11-32d490b6b5bd"
      },
      "source": [
        "\n",
        "#데이터가 제대로 만들어지고 있는지 확인 -> 레이블이 0인 데이터는 점으로 1인ㄷ 데이터는 십자가로\n",
        "def vis_data(x,y = None, c = 'r'):\n",
        "    if y is None:\n",
        "        y = [None] * len(x)\n",
        "    for x_, y_ in zip(x,y):\n",
        "        if y_ is None:\n",
        "            plt.plot(x_[0], x_[1], '*',markerfacecolor='none', markeredgecolor=c)\n",
        "        else:\n",
        "            plt.plot(x_[0], x_[1], c+'o' if y_ == 0 else c+'+')\n",
        "\n",
        "plt.figure()\n",
        "vis_data(x_train, y_train, c='r')\n",
        "plt.show()"
      ],
      "execution_count": 8,
      "outputs": [
        {
          "output_type": "display_data",
          "data": {
            "image/png": "[encoded data removed]",
            "text/plain": [
              "<Figure size 432x288 with 1 Axes>"
            ]
          },
          "metadata": {
            "tags": [],
            "needs_background": "light"
          }
        }
      ]
    },
    {
      "cell_type": "code",
      "metadata": {
        "colab": {
          "base_uri": "https://localhost:8080/"
        },
        "id": "rv-RkBFg9R-Z",
        "outputId": "8f3a2f4c-ae60-4c30-8ca3-1c9eddb12eb4"
      },
      "source": [
        "#넘파이 벡터 형식을 파이토치 텐서로 바꿔줌\n",
        "x_train = torch.FloatTensor(x_train)\n",
        "print(x_train.size())\n",
        "print(y_train.size())\n",
        "x_test = torch.FloatTensor(x_test)\n",
        "y_train = torch.FloatTensor(y_train)\n",
        "y_test = torch.FloatTensor(y_test)"
      ],
      "execution_count": 14,
      "outputs": [
        {
          "output_type": "stream",
          "text": [
            "torch.Size([80, 2])\n",
            "torch.Size([80])\n"
          ],
          "name": "stdout"
        }
      ]
    },
    {
      "cell_type": "code",
      "metadata": {
        "id": "MipcaCIv_WN0"
      },
      "source": [
        "class NeuralNet(torch.nn.Module):\n",
        "        def __init__(self, input_size, hidden_size):\n",
        "            super(NeuralNet, self).__init__()\n",
        "            self.input_size = input_size\n",
        "            self.hidden_size  = hidden_size\n",
        "            self.linear_1 = torch.nn.Linear(self.input_size, self.hidden_size)\n",
        "            self.relu = torch.nn.ReLU()\n",
        "            self.linear_2 = torch.nn.Linear(self.hidden_size, 1)\n",
        "            self.sigmoid = torch.nn.Sigmoid()\n",
        "            \n",
        "        def forward(self, input_tensor):\n",
        "            linear1 = self.linear_1(input_tensor)\n",
        "            relu = self.relu(linear1) #입력값이 0보다 작으면 0, 0보다 크면 그대로 출력\n",
        "            linear2 = self.linear_2(relu)\n",
        "            output = self.sigmoid(linear2)#0과 1사이로 출력\n",
        "            return output"
      ],
      "execution_count": 11,
      "outputs": []
    },
    {
      "cell_type": "code",
      "metadata": {
        "id": "q28O1e6KAqo3"
      },
      "source": [
        "model = NeuralNet(2, 5)\n",
        "learning_rate = 0.03\n",
        "criterion = torch.nn.BCELoss()\n",
        "epochs = 2000\n",
        "optimizer = torch.optim.SGD(model.parameters(), lr = learning_rate)"
      ],
      "execution_count": 12,
      "outputs": []
    },
    {
      "cell_type": "code",
      "metadata": {
        "colab": {
          "base_uri": "https://localhost:8080/"
        },
        "id": "0hJjR0xuAso8",
        "outputId": "a1112d0d-f635-4c1c-8f76-14831dbaa2c6"
      },
      "source": [
        "\n",
        "test_loss_before = criterion(model(x_test).squeeze(), y_test)\n",
        "print('Before Training, test loss is {}'.format(test_loss_before.item()))"
      ],
      "execution_count": 16,
      "outputs": [
        {
          "output_type": "stream",
          "text": [
            "Before Training, test loss is 0.6639257669448853\n"
          ],
          "name": "stdout"
        }
      ]
    },
    {
      "cell_type": "code",
      "metadata": {
        "colab": {
          "base_uri": "https://localhost:8080/"
        },
        "id": "QXzyZSUOBv2P",
        "outputId": "2a2c5bf3-9858-4a55-fa9f-4d52d4c3885e"
      },
      "source": [
        "for epoch in range(epochs):\n",
        "    model.train()\n",
        "    optimizer.zero_grad()\n",
        "    train_output = model(x_train)\n",
        "    train_loss = criterion(train_output.squeeze(), y_train)\n",
        "    if epoch % 100 == 0:\n",
        "        print('Train loss at {} is {}'.format(epoch, train_loss.item()))\n",
        "    train_loss.backward()\n",
        "    optimizer.step()"
      ],
      "execution_count": 17,
      "outputs": [
        {
          "output_type": "stream",
          "text": [
            "Train loss at 0 is 0.6569873690605164\n",
            "Train loss at 100 is 0.5692602396011353\n",
            "Train loss at 200 is 0.4575928747653961\n",
            "Train loss at 300 is 0.34150996804237366\n",
            "Train loss at 400 is 0.24226880073547363\n",
            "Train loss at 500 is 0.1702084243297577\n",
            "Train loss at 600 is 0.12368264049291611\n",
            "Train loss at 700 is 0.09410642087459564\n",
            "Train loss at 800 is 0.07453648746013641\n",
            "Train loss at 900 is 0.060943055897951126\n",
            "Train loss at 1000 is 0.05107168108224869\n",
            "Train loss at 1100 is 0.043651167303323746\n",
            "Train loss at 1200 is 0.03790866583585739\n",
            "Train loss at 1300 is 0.03336430341005325\n",
            "Train loss at 1400 is 0.029693379998207092\n",
            "Train loss at 1500 is 0.026676606386899948\n",
            "Train loss at 1600 is 0.024159330874681473\n",
            "Train loss at 1700 is 0.022031990811228752\n",
            "Train loss at 1800 is 0.02021424099802971\n",
            "Train loss at 1900 is 0.018645742908120155\n"
          ],
          "name": "stdout"
        }
      ]
    },
    {
      "cell_type": "code",
      "metadata": {
        "colab": {
          "base_uri": "https://localhost:8080/"
        },
        "id": "T0Rlqx1jB7Qp",
        "outputId": "a5130688-1e47-4e99-9222-e95361b67650"
      },
      "source": [
        "test_loss = criterion(torch.squeeze(model(x_test)), y_test)\n",
        "print('After Training, test loss is {}'.format(test_loss.item()))"
      ],
      "execution_count": 18,
      "outputs": [
        {
          "output_type": "stream",
          "text": [
            "After Training, test loss is 0.8638874292373657\n"
          ],
          "name": "stdout"
        }
      ]
    },
    {
      "cell_type": "code",
      "metadata": {
        "colab": {
          "base_uri": "https://localhost:8080/"
        },
        "id": "h09Aw5j6CB6a",
        "outputId": "0e682d78-7970-43e3-e521-4fa7889d4e0b"
      },
      "source": [
        "\n",
        "torch.save(model.state_dict(), './model.pt')\n",
        "print('state_dict format of the model: {}'.format(model.state_dict()))"
      ],
      "execution_count": 19,
      "outputs": [
        {
          "output_type": "stream",
          "text": [
            "state_dict format of the model: OrderedDict([('linear_1.weight', tensor([[-0.2034, -0.3661],\n",
            "        [-1.6837, -1.4927],\n",
            "        [-1.2928,  1.4805],\n",
            "        [ 1.2130, -1.3743],\n",
            "        [ 1.6907,  1.4050]])), ('linear_1.bias', tensor([-0.4299,  0.0023, -0.0211, -0.0120, -0.0968])), ('linear_2.weight', tensor([[-0.0631, -2.0961,  1.8232,  1.8516, -2.0849]])), ('linear_2.bias', tensor([0.6259]))])\n"
          ],
          "name": "stdout"
        }
      ]
    },
    {
      "cell_type": "markdown",
      "metadata": {
        "id": "ungfYwb9Ci-s"
      },
      "source": [
        "학습된 모델을 state_dict()함수 형태로 바꿔준 후 pt파일로 저장\n",
        "state_dict()함수는 모델 내 가중치들이 딕셔너리 형태로 {연산 이름 : 가중치 텐서와 편향 텐서}와 같이 표현된 데이터\n",
        "\n",
        "이렇게 파일을 저장하면 후에 이 파일을 읽어들여 새로운 신경망 객체에 이미 학습된 모델의 가중치를 적용할 수 있음!"
      ]
    },
    {
      "cell_type": "code",
      "metadata": {
        "colab": {
          "base_uri": "https://localhost:8080/"
        },
        "id": "b7pnprADC6JZ",
        "outputId": "83c28721-cadc-4d60-deb0-ac740fe6aa5c"
      },
      "source": [
        "new_model = NeuralNet(2,5)\n",
        "new_model.load_state_dict(torch.load('./model.pt'))"
      ],
      "execution_count": 20,
      "outputs": [
        {
          "output_type": "execute_result",
          "data": {
            "text/plain": [
              "<All keys matched successfully>"
            ]
          },
          "metadata": {
            "tags": []
          },
          "execution_count": 20
        }
      ]
    },
    {
      "cell_type": "code",
      "metadata": {
        "colab": {
          "base_uri": "https://localhost:8080/"
        },
        "id": "g2NX-owSDGrR",
        "outputId": "e384a395-09bb-4869-f70d-1446c26c7abe"
      },
      "source": [
        "print(\"벡터 [-1,1]이 레이블 1을 가질 확률 : \",new_model(torch.FloatTensor([-1,1])).item())"
      ],
      "execution_count": 25,
      "outputs": [
        {
          "output_type": "stream",
          "text": [
            "벡터 [-1,1]이 레이블 1을 가질 확률 :  0.9947192668914795\n"
          ],
          "name": "stdout"
        }
      ]
    }
  ]
}