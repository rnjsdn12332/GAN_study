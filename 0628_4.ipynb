{
  "nbformat": 4,
  "nbformat_minor": 0,
  "metadata": {
    "colab": {
      "name": "0628_4.ipynb",
      "provenance": [],
      "authorship_tag": "ABX9TyOwQ/qeU05nJbUcVS0r1iXe",
      "include_colab_link": true
    },
    "kernelspec": {
      "name": "python3",
      "display_name": "Python 3"
    },
    "language_info": {
      "name": "python"
    },
    "accelerator": "GPU"
  },
  "cells": [
    {
      "cell_type": "markdown",
      "metadata": {
        "id": "view-in-github",
        "colab_type": "text"
      },
      "source": [
        "<a href=\"https://colab.research.google.com/github/rnjsdn12332/GAN_study/blob/main/0628_4.ipynb\" target=\"_parent\"><img src=\"https://colab.research.google.com/assets/colab-badge.svg\" alt=\"Open In Colab\"/></a>"
      ]
    },
    {
      "cell_type": "code",
      "metadata": {
        "id": "ktEPMG84pZu8"
      },
      "source": [
        "import torch\n",
        "import torch.nn as nn\n",
        "from torch.utils.data import Dataset\n",
        "\n",
        "import pandas, numpy, random\n",
        "import matplotlib.pyplot as plt"
      ],
      "execution_count": 1,
      "outputs": []
    },
    {
      "cell_type": "code",
      "metadata": {
        "colab": {
          "base_uri": "https://localhost:8080/"
        },
        "id": "RQhIek6-qIHg",
        "outputId": "022830a1-43a9-4554-d1f2-d8a3f5a84b12"
      },
      "source": [
        "from google.colab import drive\n",
        "drive.mount('./mount') #파일 접근을 위해 드라이브 마운트"
      ],
      "execution_count": 3,
      "outputs": [
        {
          "output_type": "stream",
          "text": [
            "Mounted at ./mount\n"
          ],
          "name": "stdout"
        }
      ]
    },
    {
      "cell_type": "code",
      "metadata": {
        "colab": {
          "base_uri": "https://localhost:8080/",
          "height": 281
        },
        "id": "XefXyfmyqEAL",
        "outputId": "0f44849e-6461-4a87-bbbd-d816f55bb400"
      },
      "source": [
        "\n",
        "class MnistDataset(Dataset) :\n",
        "\n",
        "    def __init__(self, csv_file) :\n",
        "        self.data_df=pandas.read_csv(csv_file, header=None)\n",
        "        pass\n",
        "    \n",
        "    #데이터셋의 길이 반환\n",
        "    def __len__(self) : \n",
        "        return len(self.data_df)\n",
        "\n",
        "    #데이터셋의 n번째 아이템 반환\n",
        "    def __getitem__(self, index) : \n",
        "        #이미지 목표(레이블)\n",
        "        label=self.data_df.iloc[index, 0]\n",
        "        target=torch.zeros((10))\n",
        "        target[label]=1.0 #원핫인코딩\n",
        "\n",
        "        #이미지 픽셀값을 담은 것을 0과 1사이 범위로 정규화\n",
        "        image_values = torch.FloatTensor(self.data_df.iloc[index,1:].values) / 255.0\n",
        "        return label, image_values, target\n",
        "    \n",
        "    def plot_image(self, index) :\n",
        "        img=self.data_df.iloc[index, 1:].values.reshape(28,28)\n",
        "        plt.title(\"label=\"+str(self.data_df.iloc[index, 0]))\n",
        "        plt.imshow(img, interpolation = \"none\", cmap=\"Blues\")\n",
        "        \n",
        "\n",
        "mnist_dataset=MnistDataset('mount/My Drive/Colab Notebooks/myo_gan/mnist_data/mnist_train.csv')\n",
        "mnist_dataset.plot_image(9)"
      ],
      "execution_count": 4,
      "outputs": [
        {
          "output_type": "display_data",
          "data": {
            "image/png": "[encoded data removed]",
            "text/plain": [
              "<Figure size 432x288 with 1 Axes>"
            ]
          },
          "metadata": {
            "tags": [],
            "needs_background": "light"
          }
        }
      ]
    }
  ]
}